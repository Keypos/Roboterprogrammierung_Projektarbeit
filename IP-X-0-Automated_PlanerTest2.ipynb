{
 "cells": [
  {
   "cell_type": "markdown",
   "metadata": {},
   "source": [
    "Introduction\n",
    "============\n",
    "\n",
    "This is interactive notebook regarding \"Introduction to path planning\". (Author: Björn Hein)\n",
    "\n",
    "License is based on Creative Commons: Attribution-NonCommercial 4.0 International (CC BY-NC 4.0) (pls. check: http://creativecommons.org/licenses/by-nc/4.0/)\n",
    "\n",
    "This notebook imports all discussed algorithms and does a comparison\n",
    "\n",
    "**Attention**: This worksheet has external dependencies \n",
    "\n",
    "* to the files \"InnoKonz2dEnv.py\" or \"InnoKonzShapelyEnv.py\". These files contain simple 2D environments based on numpy arrays or the shapely library with an interface for the use as collision checking in the algorithms.\n",
    "* to all modules like \"**Algorithm**.py\", which contains the corresponding algorithms \n",
    "\n",
    "Important links are:\n",
    "\n",
    "* General Info: http://www.python.org\n",
    "* Python tutorial http://www.python.org/doc/tut/\n",
    "* NetworkX http://networkx.github.io/\n",
    "* NumPy and SciPy Guide http://docs.scipy.org/\n",
    "* Matplotlib gallery http://matplotlib.sourceforge.net/gallery.html\n",
    "\n",
    "\n",
    "Remember that:\n",
    "\n",
    "* you have to press ctrl-return or shift-return, to execute the code in the code sections, only then the variables are \"generated\" and can be used\n",
    "* you can execute the whole notebook by Cell->runAll"
   ]
  },
  {
   "cell_type": "markdown",
   "metadata": {},
   "source": [
    "Adding all planners\n",
    "===========\n"
   ]
  },
  {
   "cell_type": "code",
   "execution_count": 11,
   "metadata": {},
   "outputs": [],
   "source": [
    "import sys\n",
    "sys.path.append(\"templates\")\n",
    "%load_ext autoreload\n",
    "%autoreload 2"
   ]
  },
  {
   "cell_type": "code",
   "execution_count": 12,
   "metadata": {},
   "outputs": [],
   "source": [
    "from IPPerfMonitor import IPPerfMonitor\n",
    "import IPBasicPRM\n",
    "import IPVISBasicPRM\n",
    "import IPVisibilityPRM\n",
    "import IPVISVisibilityPRM\n",
    "\n",
    "#import IPKClosestPRM # for visualization IKVISBasicPRM is used\n",
    "\n",
    "import IPLazyPRM\n",
    "import IPVISLazyPRM\n",
    "\n",
    "#import IKRRT\n",
    "#import IKVISRRT\n",
    "\n",
    "import IPAStar\n",
    "import IPVISAStar\n",
    "\n",
    "import Test2\n"
   ]
  },
  {
   "cell_type": "markdown",
   "metadata": {},
   "source": [
    "Set-up of the test scenario and the configuration for all planner\n",
    "===================================\n",
    "\n",
    "Following a procedure to compare all discussed planners are shown:\n",
    "\n",
    "1. Configuration for every planner is defined\n",
    "2. The configuration and the planner is stored in the variable setup, a Python dict()\n",
    "3. the variable setup is then used to uniformly call the planning calls\n"
   ]
  },
  {
   "cell_type": "code",
   "execution_count": 13,
   "metadata": {
    "collapsed": false,
    "jupyter": {
     "outputs_hidden": false
    }
   },
   "outputs": [
    {
     "data": {
      "text/plain": [
       "'\\nrrtSimpleConfig = dict()\\nrrtSimpleConfig[\"numberOfGeneratedNodes\"] = 300 \\nrrtSimpleConfig[\"testGoalAfterNumberOfNodes\"]  = 10\\nplannerFactory[\"simpleRRT\"] = [IKRRT.RRTSimple, rrtSimpleConfig, IKVISBasicPRM.basicPRMVisualize]\\n'"
      ]
     },
     "execution_count": 13,
     "metadata": {},
     "output_type": "execute_result"
    }
   ],
   "source": [
    "plannerFactory = dict()\n",
    "\n",
    "basicConfig = dict()\n",
    "basicConfig[\"radius\"] = 5\n",
    "basicConfig[\"numNodes\"] = 400\n",
    "plannerFactory[\"basePRM\"] = [IPBasicPRM.BasicPRM, basicConfig, IPVISBasicPRM.basicPRMVisualize]\n",
    "\n",
    "basicConfig2 = dict()\n",
    "basicConfig2[\"radius\"] = 3\n",
    "basicConfig2[\"numNodes\"] = 300\n",
    "plannerFactory[\"basePRM2\"] = [IPBasicPRM.BasicPRM, basicConfig2, IPVISBasicPRM.basicPRMVisualize]\n",
    "\n",
    "visbilityConfig = dict()\n",
    "visbilityConfig[\"ntry\"] = 300\n",
    "plannerFactory[\"visibilityPRM\"] = [IPVisibilityPRM.VisPRM, visbilityConfig, IPVISVisibilityPRM.visibilityPRMVisualize]\n",
    "\n",
    "basicConfig3 = dict()\n",
    "basicConfig3[\"radius\"] = 5\n",
    "basicConfig3[\"numNodes\"] = 400\n",
    "plannerFactory[\"basePRM\"] = [Test2.simple_Gaussian, basicConfig3, IPVISBasicPRM.basicPRMVisualize]\n",
    "\n",
    "lazyConfig = dict()\n",
    "lazyConfig[\"initialRoadmapSize\"] = 5 \n",
    "lazyConfig[\"updateRoadmapSize\"]  = 5 \n",
    "lazyConfig[\"kNearest\"] = 5 \n",
    "plannerFactory[\"lazyPRM\"] = [IPLazyPRM.LazyPRM, lazyConfig, IPVISLazyPRM.lazyPRMVisualize]\n",
    "\n",
    "astarConfig = dict()\n",
    "astarConfig[\"heuristic\"] = 'euclidean' \n",
    "astarConfig[\"w\"]  = 0.5\n",
    "plannerFactory[\"astar\"] = [IPAStar.AStar, astarConfig, IPVISAStar.aStarVisualize]\n",
    "\n",
    "\"\"\"\n",
    "rrtSimpleConfig = dict()\n",
    "rrtSimpleConfig[\"numberOfGeneratedNodes\"] = 300 \n",
    "rrtSimpleConfig[\"testGoalAfterNumberOfNodes\"]  = 10\n",
    "plannerFactory[\"simpleRRT\"] = [IKRRT.RRTSimple, rrtSimpleConfig, IKVISBasicPRM.basicPRMVisualize]\n",
    "\"\"\""
   ]
  },
  {
   "cell_type": "code",
   "execution_count": 14,
   "metadata": {
    "collapsed": false,
    "jupyter": {
     "outputs_hidden": false
    }
   },
   "outputs": [],
   "source": [
    "class ResultCollection (object):\n",
    "    \n",
    "    def __init__(self, plannerFactoryName, planner, benchmark, solution, perfDataFrame):\n",
    "        self.plannerFactoryName = plannerFactoryName\n",
    "        self.planner = planner\n",
    "        self.benchmark = benchmark\n",
    "        self.solution = solution\n",
    "        self.perfDataFrame = perfDataFrame"
   ]
  },
  {
   "cell_type": "code",
   "execution_count": 15,
   "metadata": {
    "collapsed": false,
    "jupyter": {
     "outputs_hidden": false
    }
   },
   "outputs": [],
   "source": [
    "import IPTestSuite\n",
    "import importlib"
   ]
  },
  {
   "cell_type": "code",
   "execution_count": 16,
   "metadata": {},
   "outputs": [
    {
     "data": {
      "text/plain": [
       "<module 'IPTestSuite' from 'c:\\\\Users\\\\jonas\\\\Documents\\\\08_Master\\\\Python_Projekte\\\\Roboter_Programmierung\\\\RP_Vorlesung\\\\IPTestSuite.py'>"
      ]
     },
     "execution_count": 16,
     "metadata": {},
     "output_type": "execute_result"
    }
   ],
   "source": [
    "importlib.reload(IPTestSuite)"
   ]
  },
  {
   "cell_type": "code",
   "execution_count": 17,
   "metadata": {
    "collapsed": false,
    "jupyter": {
     "outputs_hidden": false
    }
   },
   "outputs": [
    {
     "name": "stdout",
     "output_type": "stream",
     "text": [
      "Trap\n",
      "Bottleneck\n",
      "Fat bottleneck\n",
      "Spirals\n",
      "Entrance\n",
      "Entrances\n",
      "KIT\n",
      "Inside\n",
      "SSL\n",
      "Ring\n",
      "Hemispheres\n",
      "Hammerhead\n",
      "Zigzag\n",
      "Spiral\n",
      "medium\n",
      "medium2\n",
      "L-square\n",
      "Teeth\n",
      "Gearshift\n",
      "Squares_easy\n",
      "Zigzag_medium\n",
      "Zigzag_hard\n",
      "Japan\n",
      "Haystack\n",
      "HairPerson\n"
     ]
    }
   ],
   "source": [
    "for benchmark in IPTestSuite.benchList:\n",
    "    print(benchmark.name)"
   ]
  },
  {
   "cell_type": "code",
   "execution_count": 18,
   "metadata": {
    "collapsed": false,
    "jupyter": {
     "outputs_hidden": false
    }
   },
   "outputs": [
    {
     "name": "stdout",
     "output_type": "stream",
     "text": [
      "basePRM [<class 'Test2.simple_Gaussian'>, {'radius': 5, 'numNodes': 400}, <function basicPRMVisualize at 0x000002B3CF8F5820>]\n",
      "Planning: basePRM - Trap\n"
     ]
    },
    {
     "ename": "AttributeError",
     "evalue": "'simple_Gaussian' object has no attribute 'getEnvironmentLimits'",
     "output_type": "error",
     "traceback": [
      "\u001b[1;31m---------------------------------------------------------------------------\u001b[0m",
      "\u001b[1;31mAttributeError\u001b[0m                            Traceback (most recent call last)",
      "\u001b[1;32m~\\AppData\\Local\\Temp/ipykernel_18924/4016790325.py\u001b[0m in \u001b[0;36m<module>\u001b[1;34m\u001b[0m\n\u001b[0;32m     13\u001b[0m                                            \u001b[0mplanner\u001b[0m\u001b[1;33m,\u001b[0m\u001b[1;33m\u001b[0m\u001b[1;33m\u001b[0m\u001b[0m\n\u001b[0;32m     14\u001b[0m                                            \u001b[0mbenchmark\u001b[0m\u001b[1;33m,\u001b[0m\u001b[1;33m\u001b[0m\u001b[1;33m\u001b[0m\u001b[0m\n\u001b[1;32m---> 15\u001b[1;33m                                            \u001b[0mplanner\u001b[0m\u001b[1;33m.\u001b[0m\u001b[0mplanPath\u001b[0m\u001b[1;33m(\u001b[0m\u001b[0mbenchmark\u001b[0m\u001b[1;33m.\u001b[0m\u001b[0mstartList\u001b[0m\u001b[1;33m,\u001b[0m\u001b[0mbenchmark\u001b[0m\u001b[1;33m.\u001b[0m\u001b[0mgoalList\u001b[0m\u001b[1;33m,\u001b[0m\u001b[0mproducer\u001b[0m\u001b[1;33m[\u001b[0m\u001b[1;36m1\u001b[0m\u001b[1;33m]\u001b[0m\u001b[1;33m)\u001b[0m\u001b[1;33m,\u001b[0m\u001b[1;33m\u001b[0m\u001b[1;33m\u001b[0m\u001b[0m\n\u001b[0m\u001b[0;32m     16\u001b[0m                                            \u001b[0mIPPerfMonitor\u001b[0m\u001b[1;33m.\u001b[0m\u001b[0mdataFrame\u001b[0m\u001b[1;33m(\u001b[0m\u001b[1;33m)\u001b[0m\u001b[1;33m\u001b[0m\u001b[1;33m\u001b[0m\u001b[0m\n\u001b[0;32m     17\u001b[0m                                           ),\n",
      "\u001b[1;32mc:\\Users\\jonas\\Documents\\08_Master\\Python_Projekte\\Roboter_Programmierung\\RP_Vorlesung\\IPPerfMonitor.py\u001b[0m in \u001b[0;36m__call__\u001b[1;34m(self, *args, **kwargs)\u001b[0m\n\u001b[0;32m     25\u001b[0m \u001b[1;33m\u001b[0m\u001b[0m\n\u001b[0;32m     26\u001b[0m         \u001b[0mstarttime\u001b[0m \u001b[1;33m=\u001b[0m \u001b[0mtime\u001b[0m\u001b[1;33m.\u001b[0m\u001b[0mtime\u001b[0m\u001b[1;33m(\u001b[0m\u001b[1;33m)\u001b[0m\u001b[1;33m\u001b[0m\u001b[1;33m\u001b[0m\u001b[0m\n\u001b[1;32m---> 27\u001b[1;33m         \u001b[0mret\u001b[0m \u001b[1;33m=\u001b[0m \u001b[0mself\u001b[0m\u001b[1;33m.\u001b[0m\u001b[0m__f\u001b[0m\u001b[1;33m(\u001b[0m\u001b[1;33m*\u001b[0m\u001b[0margs\u001b[0m\u001b[1;33m,\u001b[0m \u001b[1;33m**\u001b[0m\u001b[0mkwargs\u001b[0m\u001b[1;33m)\u001b[0m\u001b[1;33m\u001b[0m\u001b[1;33m\u001b[0m\u001b[0m\n\u001b[0m\u001b[0;32m     28\u001b[0m         \u001b[0mendtime\u001b[0m \u001b[1;33m=\u001b[0m \u001b[0mtime\u001b[0m\u001b[1;33m.\u001b[0m\u001b[0mtime\u001b[0m\u001b[1;33m(\u001b[0m\u001b[1;33m)\u001b[0m\u001b[1;33m\u001b[0m\u001b[1;33m\u001b[0m\u001b[0m\n\u001b[0;32m     29\u001b[0m         \u001b[0melement\u001b[0m \u001b[1;33m=\u001b[0m \u001b[1;33m{\u001b[0m\u001b[1;34m'args'\u001b[0m\u001b[1;33m:\u001b[0m \u001b[0margs\u001b[0m\u001b[1;33m,\u001b[0m \u001b[1;34m'kwargs'\u001b[0m\u001b[1;33m:\u001b[0m \u001b[0mkwargs\u001b[0m\u001b[1;33m,\u001b[0m \u001b[1;34m\"retVal\"\u001b[0m\u001b[1;33m:\u001b[0m \u001b[0mret\u001b[0m\u001b[1;33m,\u001b[0m \u001b[1;34m\"time\"\u001b[0m\u001b[1;33m:\u001b[0m \u001b[0mendtime\u001b[0m\u001b[1;33m-\u001b[0m\u001b[0mstarttime\u001b[0m\u001b[1;33m}\u001b[0m\u001b[1;33m\u001b[0m\u001b[1;33m\u001b[0m\u001b[0m\n",
      "\u001b[1;32mc:\\Users\\jonas\\Documents\\08_Master\\Python_Projekte\\Roboter_Programmierung\\RP_Vorlesung\\Test2.py\u001b[0m in \u001b[0;36mplanPath\u001b[1;34m(self, startList, goalList, config)\u001b[0m\n\u001b[0;32m    104\u001b[0m \u001b[1;33m\u001b[0m\u001b[0m\n\u001b[0;32m    105\u001b[0m         \u001b[1;31m# 2. learn Roadmap\u001b[0m\u001b[1;33m\u001b[0m\u001b[1;33m\u001b[0m\u001b[0m\n\u001b[1;32m--> 106\u001b[1;33m         self._learnRoadmapNearestNeighbour(\n\u001b[0m\u001b[0;32m    107\u001b[0m             config[\"radius\"], config[\"numNodes\"])\n\u001b[0;32m    108\u001b[0m \u001b[1;33m\u001b[0m\u001b[0m\n",
      "\u001b[1;32mc:\\Users\\jonas\\Documents\\08_Master\\Python_Projekte\\Roboter_Programmierung\\RP_Vorlesung\\IPPerfMonitor.py\u001b[0m in \u001b[0;36m__call__\u001b[1;34m(self, *args, **kwargs)\u001b[0m\n\u001b[0;32m     25\u001b[0m \u001b[1;33m\u001b[0m\u001b[0m\n\u001b[0;32m     26\u001b[0m         \u001b[0mstarttime\u001b[0m \u001b[1;33m=\u001b[0m \u001b[0mtime\u001b[0m\u001b[1;33m.\u001b[0m\u001b[0mtime\u001b[0m\u001b[1;33m(\u001b[0m\u001b[1;33m)\u001b[0m\u001b[1;33m\u001b[0m\u001b[1;33m\u001b[0m\u001b[0m\n\u001b[1;32m---> 27\u001b[1;33m         \u001b[0mret\u001b[0m \u001b[1;33m=\u001b[0m \u001b[0mself\u001b[0m\u001b[1;33m.\u001b[0m\u001b[0m__f\u001b[0m\u001b[1;33m(\u001b[0m\u001b[1;33m*\u001b[0m\u001b[0margs\u001b[0m\u001b[1;33m,\u001b[0m \u001b[1;33m**\u001b[0m\u001b[0mkwargs\u001b[0m\u001b[1;33m)\u001b[0m\u001b[1;33m\u001b[0m\u001b[1;33m\u001b[0m\u001b[0m\n\u001b[0m\u001b[0;32m     28\u001b[0m         \u001b[0mendtime\u001b[0m \u001b[1;33m=\u001b[0m \u001b[0mtime\u001b[0m\u001b[1;33m.\u001b[0m\u001b[0mtime\u001b[0m\u001b[1;33m(\u001b[0m\u001b[1;33m)\u001b[0m\u001b[1;33m\u001b[0m\u001b[1;33m\u001b[0m\u001b[0m\n\u001b[0;32m     29\u001b[0m         \u001b[0melement\u001b[0m \u001b[1;33m=\u001b[0m \u001b[1;33m{\u001b[0m\u001b[1;34m'args'\u001b[0m\u001b[1;33m:\u001b[0m \u001b[0margs\u001b[0m\u001b[1;33m,\u001b[0m \u001b[1;34m'kwargs'\u001b[0m\u001b[1;33m:\u001b[0m \u001b[0mkwargs\u001b[0m\u001b[1;33m,\u001b[0m \u001b[1;34m\"retVal\"\u001b[0m\u001b[1;33m:\u001b[0m \u001b[0mret\u001b[0m\u001b[1;33m,\u001b[0m \u001b[1;34m\"time\"\u001b[0m\u001b[1;33m:\u001b[0m \u001b[0mendtime\u001b[0m\u001b[1;33m-\u001b[0m\u001b[0mstarttime\u001b[0m\u001b[1;33m}\u001b[0m\u001b[1;33m\u001b[0m\u001b[1;33m\u001b[0m\u001b[0m\n",
      "\u001b[1;32mc:\\Users\\jonas\\Documents\\08_Master\\Python_Projekte\\Roboter_Programmierung\\RP_Vorlesung\\Test2.py\u001b[0m in \u001b[0;36m_learnRoadmapNearestNeighbour\u001b[1;34m(self, radius, numNodes)\u001b[0m\n\u001b[0;32m     58\u001b[0m             \u001b[0mnewNodePos\u001b[0m \u001b[1;33m=\u001b[0m \u001b[1;32mFalse\u001b[0m\u001b[1;33m\u001b[0m\u001b[1;33m\u001b[0m\u001b[0m\n\u001b[0;32m     59\u001b[0m             \u001b[1;32mwhile\u001b[0m \u001b[0mnewNodePos\u001b[0m \u001b[1;33m==\u001b[0m \u001b[1;32mFalse\u001b[0m\u001b[1;33m:\u001b[0m\u001b[1;33m\u001b[0m\u001b[1;33m\u001b[0m\u001b[0m\n\u001b[1;32m---> 60\u001b[1;33m                 \u001b[0mnewNodePos\u001b[0m \u001b[1;33m=\u001b[0m \u001b[0mself\u001b[0m\u001b[1;33m.\u001b[0m\u001b[0msimple_Gaus_Sampling\u001b[0m\u001b[1;33m(\u001b[0m\u001b[1;33m)\u001b[0m\u001b[1;33m\u001b[0m\u001b[1;33m\u001b[0m\u001b[0m\n\u001b[0m\u001b[0;32m     61\u001b[0m \u001b[1;33m\u001b[0m\u001b[0m\n\u001b[0;32m     62\u001b[0m             \u001b[0mself\u001b[0m\u001b[1;33m.\u001b[0m\u001b[0mgraph\u001b[0m\u001b[1;33m.\u001b[0m\u001b[0madd_node\u001b[0m\u001b[1;33m(\u001b[0m\u001b[0mnodeID\u001b[0m\u001b[1;33m,\u001b[0m \u001b[0mpos\u001b[0m\u001b[1;33m=\u001b[0m\u001b[0mnewNodePos\u001b[0m\u001b[1;33m)\u001b[0m\u001b[1;33m\u001b[0m\u001b[1;33m\u001b[0m\u001b[0m\n",
      "\u001b[1;32mc:\\Users\\jonas\\Documents\\08_Master\\Python_Projekte\\Roboter_Programmierung\\RP_Vorlesung\\Test.py\u001b[0m in \u001b[0;36msimple_Gaus_Sampling\u001b[1;34m(collChecker)\u001b[0m\n\u001b[0;32m     23\u001b[0m     \u001b[1;32mdef\u001b[0m \u001b[0msimple_Gaus_Sampling\u001b[0m\u001b[1;33m(\u001b[0m\u001b[0mcollChecker\u001b[0m\u001b[1;33m)\u001b[0m\u001b[1;33m:\u001b[0m\u001b[1;33m\u001b[0m\u001b[1;33m\u001b[0m\u001b[0m\n\u001b[0;32m     24\u001b[0m \u001b[1;33m\u001b[0m\u001b[0m\n\u001b[1;32m---> 25\u001b[1;33m         \u001b[1;31m# Get the limites for the graph\u001b[0m\u001b[1;33m\u001b[0m\u001b[1;33m\u001b[0m\u001b[0m\n\u001b[0m\u001b[0;32m     26\u001b[0m         \u001b[0mlimits\u001b[0m \u001b[1;33m=\u001b[0m \u001b[0mcollChecker\u001b[0m\u001b[1;33m.\u001b[0m\u001b[0mgetEnvironmentLimits\u001b[0m\u001b[1;33m(\u001b[0m\u001b[1;33m)\u001b[0m\u001b[1;33m\u001b[0m\u001b[1;33m\u001b[0m\u001b[0m\n\u001b[0;32m     27\u001b[0m         \u001b[1;31m# Get a random position within the limits\u001b[0m\u001b[1;33m\u001b[0m\u001b[1;33m\u001b[0m\u001b[0m\n",
      "\u001b[1;31mAttributeError\u001b[0m: 'simple_Gaussian' object has no attribute 'getEnvironmentLimits'"
     ]
    }
   ],
   "source": [
    "resultList = list()\n",
    "\n",
    "for key,producer in list(plannerFactory.items()):\n",
    "    print(key, producer)\n",
    "    for benchmark in IPTestSuite.benchList[0:5]:\n",
    "        print (\"Planning: \" + key + \" - \" + benchmark.name)\n",
    "        #planner = IPBasicPRM.BasicPRM(benchmark.collisionChecker)\n",
    "        planner = producer[0](benchmark.collisionChecker)\n",
    "        IPPerfMonitor.clearData()\n",
    "        #try:\n",
    "            \n",
    "        resultList.append(ResultCollection(key,\n",
    "                                           planner, \n",
    "                                           benchmark, \n",
    "                                           planner.planPath(benchmark.startList,benchmark.goalList,producer[1]),\n",
    "                                           IPPerfMonitor.dataFrame()\n",
    "                                          ),\n",
    "                        )\n",
    "        #except Exception as e:\n",
    "        #    throw e\n",
    "        #    print (\"PLANNING ERROR ! PLANNING ERROR ! PLANNING ERROR \")\n",
    "        #    pass\n",
    "            \n",
    "\n"
   ]
  },
  {
   "cell_type": "code",
   "execution_count": null,
   "metadata": {},
   "outputs": [],
   "source": [
    "print(plannerFactory.items())"
   ]
  },
  {
   "cell_type": "code",
   "execution_count": null,
   "metadata": {
    "tags": []
   },
   "outputs": [],
   "source": [
    "import matplotlib.pyplot as plt\n",
    "\n",
    "for result in resultList:\n",
    "    \n",
    "    fig_local = plt.figure(figsize=(10,10))\n",
    "    ax = fig_local.add_subplot(1,1,1)\n",
    "    title = result.plannerFactoryName + \" - \" + result.benchmark.name\n",
    "    if result.solution == []:\n",
    "        title += \" (No path found!)\"\n",
    "    title += \"\\n Assumed complexity level \" + str(result.benchmark.level)\n",
    "    ax.set_title(title)\n",
    "    try:\n",
    "        #IPVISBasicsPRM.basicPRMVisualize(result.planner, result.solution, ax=ax, nodeSize=100))\n",
    "        plannerFactory[result.plannerFactoryName][2](result.planner, result.solution, ax=ax, nodeSize=100)\n",
    "    except:\n",
    "        pass\n",
    "    "
   ]
  },
  {
   "cell_type": "code",
   "execution_count": null,
   "metadata": {
    "collapsed": false,
    "jupyter": {
     "outputs_hidden": false
    }
   },
   "outputs": [],
   "source": [
    "import numpy as np\n",
    "for bench in IPTestSuite.benchList[25:30]:\n",
    "    title = bench.name\n",
    "    pathLength = dict()\n",
    "    planningTime = dict()\n",
    "    roadmapSize  = dict()\n",
    "    \n",
    "    for result in resultList:\n",
    "        if result.benchmark.name == bench.name:\n",
    "            #print result.benchmark.name  + \" - \" +  result.plannerFactoryName, len(result.solution)\n",
    "            pathLength[result.plannerFactoryName] = len(result.solution)\n",
    "            planningTime[result.plannerFactoryName] = result.perfDataFrame.groupby([\"name\"]).sum()[\"time\"][\"planPath\"]\n",
    "            roadmapSize[result.plannerFactoryName] = result.planner.graph.size()\n",
    "    \n",
    "    \n",
    "    fig, ax = plt.subplots()\n",
    "    \n",
    "    width = 0.2\n",
    "    \n",
    "    ax.bar(np.arange(len(pathLength.keys())), pathLength.values(),width, color=\"blue\")\n",
    "    ax.set_ylabel(title + \" Path length\", color=\"blue\")\n",
    "    ax.set_xticks(np.arange(len(pathLength.keys())) + width)\n",
    "    ax.set_xticklabels(pathLength.keys())\n",
    "\n",
    "    ax2 = ax.twinx()\n",
    "    bar = ax2.bar(np.arange(len(pathLength.keys()))+width, planningTime.values(),width, color=\"red\")\n",
    "    ax2.set_ylabel(title + \" Planning time\", color=\"y\")\n",
    "\n",
    "    # Add coloring and patterns on axis two\n",
    "    hatches = ['x' if length==0 else '' for length in pathLength.values()]\n",
    "    color   = ['red' if length==0 else 'yellow' for length in pathLength.values()]\n",
    "    for i,thisbar in enumerate(bar.patches):\n",
    "        thisbar.set_facecolor(color[i])\n",
    "        thisbar.set_hatch(hatches[i])\n",
    "\n",
    "    # Multiple axes \n",
    "    ax3 = ax.twinx()\n",
    "    ax3.bar(np.arange(len(pathLength.keys()))+2*width, roadmapSize.values(),width, color=\"purple\")\n",
    "    ax3.set_ylabel(title + \" Roadmap size\",  color=\"purple\")\n",
    "    ax3.spines['right'].set_position(('axes', 1.15))\n",
    "    ax3.spines['right'].set_color(\"purple\")\n",
    "    \n",
    "\n",
    "    \n",
    "        \n",
    "    "
   ]
  },
  {
   "cell_type": "code",
   "execution_count": null,
   "metadata": {},
   "outputs": [],
   "source": [
    "result.perfDataFrame.groupby([\"name\"]).sum()[\"time\"]"
   ]
  }
 ],
 "metadata": {
  "kernelspec": {
   "display_name": "Python 3 (ipykernel)",
   "language": "python",
   "name": "python3"
  },
  "language_info": {
   "codemirror_mode": {
    "name": "ipython",
    "version": 3
   },
   "file_extension": ".py",
   "mimetype": "text/x-python",
   "name": "python",
   "nbconvert_exporter": "python",
   "pygments_lexer": "ipython3",
   "version": "3.9.9"
  }
 },
 "nbformat": 4,
 "nbformat_minor": 4
}
