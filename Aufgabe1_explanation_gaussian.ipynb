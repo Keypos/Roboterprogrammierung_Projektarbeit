{
 "cells": [
  {
   "cell_type": "code",
   "execution_count": 3,
   "metadata": {},
   "outputs": [],
   "source": [
    "import matplotlib.pyplot as plt \n",
    "%matplotlib inline\n",
    "\n",
    "import networkx as nx  # Library for hanling graphs (please check 4_Introduction_Graph)\n",
    "import random # possibility to create random numbers (The \"P\" in PRM)\n",
    "import numpy as np\n",
    "import math\n",
    "\n",
    "# sort nearest neighbour brute force\n",
    "import heapq\n",
    "import copy\n",
    "# reduce coding effort by using function provided by scipy\n",
    "from scipy.spatial.distance import euclidean"
   ]
  },
  {
   "cell_type": "markdown",
   "metadata": {},
   "source": [
    "#### InSameConenctedComponents \n",
    "überprüft, ob die Übergebenen Punkte in der gleichen Komponente sind\n",
    "\n"
   ]
  },
  {
   "cell_type": "code",
   "execution_count": null,
   "metadata": {},
   "outputs": [],
   "source": [
    "def inSameConnectedComponent(node1, node2, graph):\n",
    "    \"\"\" Check whether to nodes are part of the same connected component using\n",
    "        functionality from NetworkX\n",
    "    \"\"\"\n",
    "    for connectedComponent in nx.connected_components(graph): \n",
    "        if (node1 in connectedComponent) & (node2 in connectedComponent):\n",
    "            return True\n",
    "        \n",
    "    return False"
   ]
  },
  {
   "cell_type": "markdown",
   "metadata": {},
   "source": [
    "### nearestNeighboursX \n",
    "sucht alle Punkte zu einem übergebenen Punkt in einem übergebenen Radius und speichert diese in aufsteigender Reihenfolge in einem Heap"
   ]
  },
  {
   "cell_type": "code",
   "execution_count": null,
   "metadata": {},
   "outputs": [],
   "source": [
    "def nearestNeighboursX(pos, graph, radius):\n",
    "    \"\"\" Brute Force method to find all nodes of a \n",
    "    graph near the given position **pos** with in the distance of\n",
    "    **radius** in **increasing order**\"\"\"\n",
    "    \n",
    "    heap = list()\n",
    "    for node in graph.nodes(data=True): # using (data=True) will generate a list of nodes with all attributes\n",
    "        if euclidean(node[1]['pos'],pos) < radius:\n",
    "            # use a heap-queue to sort the nodes in increasing order\n",
    "            heapq.heappush(heap, (euclidean(node[1]['pos'] ,pos), node))\n",
    "            #if len(heap) > 2 :\n",
    "            #    break\n",
    "\n",
    "    result = list()\n",
    "    while len(heap) > 0 :\n",
    "         result.append(heapq.heappop(heap)) \n",
    "    \n",
    "    return result"
   ]
  },
  {
   "cell_type": "markdown",
   "metadata": {},
   "source": []
  },
  {
   "cell_type": "markdown",
   "metadata": {},
   "source": [
    "### Gauß Funktion in Python\n",
    "Über die Funktio np.random.normal(mean,sigma,n) kann eine Gauß Funktion um den Mittelwert mean mit der Standardabweichung sigma erzeugt werden. \n",
    "Über die Variable n wird angegeben wie viele Random Werte aus der Gauß Verteilung ausgegben werden sollen. Standardmäßig ist dieser Wert auf eins  "
   ]
  },
  {
   "cell_type": "code",
   "execution_count": 4,
   "metadata": {},
   "outputs": [
    {
     "data": {
      "image/png": "[encoded data removed]",
      "text/plain": [
       "<Figure size 432x288 with 1 Axes>"
      ]
     },
     "metadata": {
      "needs_background": "light"
     },
     "output_type": "display_data"
    }
   ],
   "source": [
    "mu,sigma =0,0.5\n",
    "s=np.random.normal(mu,sigma,1000)\n",
    "\n",
    "\n",
    "count, bins, ignored = plt.hist(s, 30, density=True)\n",
    "plt.plot(bins, 1/(sigma * np.sqrt(2 * np.pi)) *\n",
    "               np.exp( - (bins - mu)**2 / (2 * sigma**2) ),\n",
    "         linewidth=2, color='r')\n",
    "plt.show()\n",
    "\n"
   ]
  },
  {
   "cell_type": "markdown",
   "metadata": {},
   "source": [
    "### Gauß Sampling Strategie \n",
    "   1. finde einen Zufälligen Punkt im Konfigurationsraum und überprüfe diesen auf Kollision \n",
    "      * Kollisionsfrei: Punkt wird verworfen und Funktion liefert **False** zurück. \n",
    "      * Kollision: Puntk wird zwischengespeichert und X und Y Werte werden erfasst.\n",
    "   2. Finde einen zweiten Punkt im Konfigurationsraum \n",
    "      * Der Abstand **d** zum zweiten Punkt wird zufällig aus einer Gaußschen Normalverteilung gewählt.\n",
    "      * Wäle einen zufälligen Winkel **alpha** für die Richtung in der nach dem zweiten Punkt geschaut werden soll. \n",
    "      * Mittels dem Abstand **d** und dem Winkel **alpha** und trigonometrischen Funktionen werden die X und Y Koordinaten des zweiten Punktes berechnet. \n",
    "   3. Überprüfe den gefunden zweiten Punkt auf Kollision\n",
    "    * Kollision: Punkt wird verworfen und die Funktion liefert **Fallse** zurück. \n",
    "    * Kollisionsfrei: Punkt wird zurückgeliefert -->Sampling war erfolgreich.\n",
    "\n",
    "      \n",
    "    \n"
   ]
  },
  {
   "cell_type": "code",
   "execution_count": null,
   "metadata": {},
   "outputs": [],
   "source": [
    "import random #Twt\n",
    "\n",
    "def simple_Gaussian_Sampling(collChecker):\n",
    "    \n",
    "    \n",
    "    #Get the limites for the graph \n",
    "    limits = collChecker.getEnvironmentLimits()   \n",
    "    #Get a random position within the limits    \n",
    "    pos = [random.uniform(limit[0],limit[1]) for limit in limits]\n",
    "    #If selected Configuration is not free pick the Point \n",
    "    if not collChecker.pointInCollision(pos):\n",
    "        return False \n",
    "    #get a distance for the second Point over a gaussian distribution \n",
    "    d=np.random.normal(1,1)\n",
    "    pos_x=pos[0]\n",
    "    pos_y=pos[1]\n",
    "    #get a random angle between 0 and 360 \n",
    "    alpha=random.uniform(0,360)*(math.pi/180)\n",
    "    #calculate the new Point with the random angle and the selected distance d \n",
    "    pos2_x=d*math.cos(alpha)+pos_x\n",
    "    pos2_y=d*math.sin(alpha)+pos_y\n",
    "    #store the Point \n",
    "    pos2=[pos2_x,pos2_y]\n",
    "    #check if the Point is collision free \n",
    "    if collChecker.pointInCollision(pos2):\n",
    "        return False\n",
    "    #if the point is  collision free return it \n",
    "    return pos2\n",
    "\n",
    "    \n",
    "\n",
    "    "
   ]
  },
  {
   "cell_type": "code",
   "execution_count": null,
   "metadata": {},
   "outputs": [],
   "source": [
    "def learnRoadmapNearestNeighbour(graph, dim, radius, numNodes, collisionChecker):\n",
    "    i = 1\n",
    "    while i < numNodes:\n",
    "        \n",
    "        # Generate a 'randomly chosen, free configuration'\n",
    "        pos = False\n",
    "        while pos==False:\n",
    "            pos = simple_Gaus_Sampling(collisionChecker)\n",
    "        \n",
    "        # Find set of candidates to connect to sorted by distance\n",
    "        result = nearestNeighboursX(pos, graph, radius)\n",
    "        \n",
    "        # check connection\n",
    "        graph.add_node(i, pos=pos)\n",
    "        \"\"\"\n",
    "        for idx, data in enumerate(result):\n",
    "            if not inSameConnectedComponent(i,data[1][0],graph):\n",
    "                if not collisionChecker.lineInCollision(pos,data[1][1]['pos']):\n",
    "                    graph.add_edge(i,data[1][0])\n",
    "        \"\"\"           \n",
    "        i+=1"
   ]
  }
 ],
 "metadata": {
  "interpreter": {
   "hash": "4ff5e63b7568e95e5b0371cab0b26aca9b1e7af42d6a4f8fa4dd7b5791925828"
  },
  "kernelspec": {
   "display_name": "Python 3.9.9 64-bit ('venv': venv)",
   "language": "python",
   "name": "python3"
  },
  "language_info": {
   "codemirror_mode": {
    "name": "ipython",
    "version": 3
   },
   "file_extension": ".py",
   "mimetype": "text/x-python",
   "name": "python",
   "nbconvert_exporter": "python",
   "pygments_lexer": "ipython3",
   "version": "3.9.9"
  },
  "orig_nbformat": 4
 },
 "nbformat": 4,
 "nbformat_minor": 2
}
