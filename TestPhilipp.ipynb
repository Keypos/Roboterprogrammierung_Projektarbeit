{
 "cells": [
  {
   "cell_type": "code",
   "execution_count": 1,
   "metadata": {},
   "outputs": [],
   "source": [
    "from sampstrats import GaussianPRM\n",
    "import random\n",
    "import math\n",
    "import copy\n",
    "import heapq\n",
    "import numpy as np\n",
    "import networkx as nx\n",
    "import IPPRMBase\n",
    "import matplotlib.pyplot as plt\n",
    "from IPPerfMonitor import IPPerfMonitor\n",
    "import IPTestSuite"
   ]
  },
  {
   "cell_type": "code",
   "execution_count": 2,
   "metadata": {},
   "outputs": [],
   "source": [
    "def basicPRMVisualize(graph, collChecker, solution, nodeSize=300.0, ax=None):\n",
    "    # get a list of posiations of all nodes by returning the content of the attribute 'pos'\n",
    "    pos = nx.get_node_attributes(graph,'pos')\n",
    "    \n",
    "    # draw graph (nodes colorized by degree)\n",
    "    nx.draw_networkx_nodes(graph, pos,  cmap=plt.cm.Blues, ax = ax, node_size=nodeSize)\n",
    "    nx.draw_networkx_edges(graph,pos,\n",
    "                                ax = ax\n",
    "                                )\n",
    "    \n",
    "   \n",
    "    \n",
    "\n",
    "    collChecker.drawObstacles(ax)\n",
    "    \n",
    "    \n",
    "    # draw nodes based on solution path\n",
    "    Gsp = nx.subgraph(graph,solution)\n",
    "    nx.draw_networkx_nodes(Gsp,pos,\n",
    "                            node_size=300,\n",
    "                             node_color='g',  ax = ax)\n",
    "        \n",
    "    # draw edges based on solution path\n",
    "    nx.draw_networkx_edges(Gsp,pos,alpha=0.8,edge_color='g',width=10,  ax = ax)\n",
    "        \n",
    "    # draw start and goal\n",
    "    if \"start\" in graph.nodes(): \n",
    "        nx.draw_networkx_nodes(graph,pos,nodelist=[\"start\"],\n",
    "                                   node_size=300,\n",
    "                                   node_color='#00dd00',  ax = ax)\n",
    "    if \"goal\" in graph.nodes():\n",
    "        nx.draw_networkx_nodes(graph,pos,nodelist=[\"goal\"],\n",
    "                                   node_size=300,\n",
    "                                   node_color='#DD0000', ax = ax)"
   ]
  },
  {
   "cell_type": "code",
   "execution_count": 3,
   "metadata": {},
   "outputs": [
    {
     "name": "stdout",
     "output_type": "stream",
     "text": [
      "Planning:  Entrances\n",
      "Failed No path between start and goal.\n",
      "Planning:  KIT\n",
      "Failed Either source start or target goal is not in G\n",
      "Planning:  Inside\n",
      "['start', 220, 196, 140, 71, 31, 11, 67, 59, 39, 7, 2, 10, 4, 5, 32, 36, 58, 178, 264, 'goal'] 21\n",
      "301\n",
      "Planning:  SSL\n",
      "['start', 264, 253, 15, 16, 61, 122, 104, 8, 30, 28, 21, 13, 38, 25, 14, 2, 46, 63, 98, 10, 9, 35, 83, 88, 111, 213, 'goal'] 28\n",
      "301\n",
      "Planning:  Ring\n",
      "['start', 73, 69, 22, 39, 14, 90, 102, 24, 11, 9, 2, 32, 21, 50, 41, 46, 103, 167, 238, 'goal'] 21\n",
      "301\n",
      "Planning:  Hemispheres\n",
      "Failed Either source start or target goal is not in G\n",
      "Planning:  Hammerhead\n",
      "['start', 102, 3, 4, 9, 2, 11, 28, 87, 147, 101, 94, 88, 6, 18, 12, 34, 37, 148, 49, 1, 7, 8, 31, 24, 10, 52, 27, 61, 'goal'] 30\n",
      "301\n",
      "Planning:  Zigzag\n"
     ]
    }
   ],
   "source": [
    "temp_list=IPTestSuite.benchList[5:]\n",
    "\n",
    "config = {}\n",
    "config['radius'] = 5.0\n",
    "config['numNodes'] = 300\n",
    "config['mean'] = 0\n",
    "config['sigma'] = 1\n",
    "\n",
    "for benchmark in temp_list:\n",
    "    try:\n",
    "        print (\"Planning: \", benchmark.name)\n",
    "        collChecker = benchmark.collisionChecker\n",
    "        gauss = GaussianPRM(collChecker)\n",
    "        solution = gauss.planPath(benchmark.startList[0],benchmark.goalList[0], config)\n",
    "        print(solution, len(solution))\n",
    "        print(len(gauss.graph.nodes()))\n",
    "    except Exception as e:\n",
    "        solution = []\n",
    "        print (\"Failed\", e)\n",
    "\n",
    "    # draw the planning\n",
    "    fig = plt.figure(figsize=(10,10))\n",
    "    ax = fig.add_subplot(1,1,1)\n",
    "    limits=collChecker.getEnvironmentLimits()\n",
    "    ax.set_xlim(limits[0])\n",
    "    ax.set_ylim(limits[1])\n",
    "    ax.set_title(benchmark.name)\n",
    "    basicPRMVisualize(gauss.graph, collChecker,solution,nodeSize=80,ax=ax)"
   ]
  }
 ],
 "metadata": {
  "interpreter": {
   "hash": "5a40cf6a1da29a39ead2ba32911a0c6fce94dd082a7ebb2950da7752aaf1c51d"
  },
  "kernelspec": {
   "display_name": "Python 3.8.8 64-bit ('base': conda)",
   "language": "python",
   "name": "python3"
  },
  "language_info": {
   "codemirror_mode": {
    "name": "ipython",
    "version": 3
   },
   "file_extension": ".py",
   "mimetype": "text/x-python",
   "name": "python",
   "nbconvert_exporter": "python",
   "pygments_lexer": "ipython3",
   "version": "3.8.8"
  },
  "orig_nbformat": 4
 },
 "nbformat": 4,
 "nbformat_minor": 2
}
