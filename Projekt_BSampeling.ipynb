{
 "cells": [
  {
   "cell_type": "code",
   "execution_count": null,
   "metadata": {},
   "outputs": [],
   "source": [
    "import matplotlib.pyplot as plt \n",
    "%matplotlib inline\n",
    "\n",
    "import networkx as nx  # Library for hanling graphs (please check 4_Introduction_Graph)\n",
    "import random # possibility to create random numbers (The \"P\" in PRM)\n",
    "import numpy as np\n",
    "import math\n",
    "\n",
    "# sort nearest neighbour brute force\n",
    "import heapq\n",
    "\n",
    "# reduce coding effort by using function provided by scipy\n",
    "from scipy.spatial.distance import euclidean"
   ]
  },
  {
   "cell_type": "code",
   "execution_count": null,
   "metadata": {},
   "outputs": [],
   "source": [
    "def inSameConnectedComponent(node1, node2, graph):\n",
    "    \"\"\" Check whether to nodes are part of the same connected component using\n",
    "        functionality from NetworkX\n",
    "    \"\"\"\n",
    "    for connectedComponent in nx.connected_components(graph):\n",
    "        if (node1 in connectedComponent) & (node2 in connectedComponent):\n",
    "            return True\n",
    "        \n",
    "    return False"
   ]
  },
  {
   "cell_type": "code",
   "execution_count": null,
   "metadata": {},
   "outputs": [],
   "source": [
    "import random\n",
    "\n",
    "def Bridge_sampling(collChecker):\n",
    "    \n",
    "    limits = collChecker.getEnvironmentLimits()        \n",
    "    pos = [random.uniform(limit[0],limit[1]) for limit in limits]\n",
    "    \n",
    "    \n",
    "    #get a colliding point\n",
    "    for t in range(0,200):\n",
    "        while not collChecker.pointInCollision(pos):\n",
    "            pos = [random.uniform(limit[0],limit[1]) for limit in limits]\n",
    "        \n",
    "        #store the x and y value of the colliding point\n",
    "        pos_x=pos[0]\n",
    "        pos_y=pos[1]\n",
    "    \n",
    "        #find a second coliding Point in the neigborhood\n",
    "        for i in range(0,200):\n",
    "        #get a distance over a gaussian distribution   \n",
    "            me,sigma = 0,1 #Mean value of the gaussian distribution, standard deviation \n",
    "            d=np.random.normal(me,sigma) #get a random distance form a gaussian distribution \n",
    "            for n in range(0,12):\n",
    "                #alpha=random.uniform(0,360)*(180/math.pi) #get an random angle in rad\n",
    "                alpha=n*90*(180/math.pi)#get an angle in rad \n",
    "                pos2_x=d*math.cos(alpha)+pos_x\n",
    "                pos2_y=d*math.sin(alpha)+pos_y\n",
    "                pos2=[pos2_x,pos2_y]\n",
    "                if  collChecker.pointInCollision(pos2): #return point when in collison \n",
    "                    break\n",
    "            pos3_x=(pos2_x+pos_x)/2\n",
    "            pos3_y=(pos2_y+pos_y)/2   \n",
    "            pos3=[pos3_x,pos3_y]\n",
    "            if  collChecker.pointInCollision(pos3): #return point when in collison \n",
    "                    return pos3\n",
    "            \n",
    "\n",
    "        \n",
    "    \n",
    "    \n",
    "    #if no point found with gaussian pick a random collison free point\n",
    "    while not collChecker.pointInCollision(pos):\n",
    "        pos = [random.uniform(limit[0],limit[1]) for limit in limits]\n",
    "    return pos\n",
    "            \n",
    "            \n",
    "   "
   ]
  }
 ],
 "metadata": {
  "language_info": {
   "name": "python"
  },
  "orig_nbformat": 4
 },
 "nbformat": 4,
 "nbformat_minor": 2
}
