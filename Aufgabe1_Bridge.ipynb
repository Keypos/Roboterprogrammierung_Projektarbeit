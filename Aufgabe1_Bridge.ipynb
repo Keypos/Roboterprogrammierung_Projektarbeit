{
 "cells": [
  {
   "cell_type": "code",
   "execution_count": 12,
   "metadata": {},
   "outputs": [],
   "source": [
    "import matplotlib.pyplot as plt \n",
    "%matplotlib inline\n",
    "\n",
    "import networkx as nx  # Library for hanling graphs (please check 4_Introduction_Graph)\n",
    "import random # possibility to create random numbers (The \"P\" in PRM)\n",
    "import numpy as np\n",
    "import math\n",
    "\n",
    "from IPPerfMonitor import IPPerfMonitor\n",
    "\n",
    "# sort nearest neighbour brute force\n",
    "import heapq\n",
    "import copy\n",
    "# reduce coding effort by using function provided by scipy\n",
    "from scipy.spatial.distance import euclidean"
   ]
  },
  {
   "cell_type": "code",
   "execution_count": 13,
   "metadata": {},
   "outputs": [],
   "source": [
    "def inSameConnectedComponent(node1, node2, graph):\n",
    "    \"\"\" Check whether to nodes are part of the same connected component using\n",
    "        functionality from NetworkX\n",
    "    \"\"\"\n",
    "    for connectedComponent in nx.connected_components(graph):\n",
    "        if (node1 in connectedComponent) & (node2 in connectedComponent):\n",
    "            return True\n",
    "        \n",
    "    return False"
   ]
  },
  {
   "cell_type": "code",
   "execution_count": 14,
   "metadata": {},
   "outputs": [],
   "source": [
    "\n",
    "def nearestNeighboursX(pos, graph, radius):\n",
    "    \"\"\" Brute Force method to find all nodes of a \n",
    "    graph near the given position **pos** with in the distance of\n",
    "    **radius** in **increasing order**\"\"\"\n",
    "    \n",
    "    heap = list()\n",
    "    for node in graph.nodes(data=True): # using (data=True) will generate a list of nodes with all attributes\n",
    "        if euclidean(node[1]['pos'],pos) < radius:\n",
    "            # use a heap-queue to sort the nodes in increasing order\n",
    "            heapq.heappush(heap, (euclidean(node[1]['pos'] ,pos), node))\n",
    "            #if len(heap) > 2 :\n",
    "            #    break\n",
    "\n",
    "    result = list()\n",
    "    while len(heap) > 0 :\n",
    "         result.append(heapq.heappop(heap)) \n",
    "    \n",
    "    return result\n",
    "            \n",
    "            "
   ]
  },
  {
   "cell_type": "code",
   "execution_count": 15,
   "metadata": {},
   "outputs": [],
   "source": [
    "import random\n",
    "\n",
    "def simple_Bridge_Sampling(collChecker):\n",
    "    limits = collChecker.getEnvironmentLimits()        \n",
    "    pos = [random.uniform(limit[0],limit[1]) for limit in limits]\n",
    "\n",
    "    if not collChecker.pointInCollision(pos):\n",
    "        return False\n",
    "    d = np.random.normal(1,1)\n",
    "    pos_x=pos[0]\n",
    "    pos_y=pos[1]\n",
    "    alpha=random.uniform(0,360)*(math.pi/180) #get an random angle in rad\n",
    "    pos2_x=d*math.cos(alpha)+pos_x\n",
    "    pos2_y=d*math.sin(alpha)+pos_y\n",
    "    pos2=[pos2_x,pos2_y]\n",
    "\n",
    "    if not collChecker.pointInCollision(pos2):\n",
    "        return False\n",
    "        \n",
    "    pos3_x=(pos_x+pos2_x)/2\n",
    "    pos3_y=(pos_y+pos2_y)/2  \n",
    "    pos3=[pos3_x,pos3_y]\n",
    "\n",
    "    if collChecker.pointInCollision(pos3):\n",
    "        return False\n",
    "        \n",
    "    return pos3\n"
   ]
  },
  {
   "cell_type": "code",
   "execution_count": 16,
   "metadata": {},
   "outputs": [],
   "source": [
    "import random\n",
    "\n",
    "def Bridge_Sampeling(collChecker):\n",
    "    \n",
    "    limits = collChecker.getEnvironmentLimits()        \n",
    "    pos = [random.uniform(limit[0],limit[1]) for limit in limits]\n",
    "    \n",
    "    \n",
    "    #get a colliding point\n",
    "    for t in range(0,10):\n",
    "        while not collChecker.pointInCollision(pos):\n",
    "            pos = [random.uniform(limit[0],limit[1]) for limit in limits]\n",
    "        \n",
    "        #store the x and y value of the colliding point\n",
    "        pos_x=pos[0]\n",
    "        pos_y=pos[1]\n",
    "    \n",
    "        \n",
    "        for i in range(0,50):\n",
    "        #get a distance over a gaussian distribution   \n",
    "            me,sigma = 1,1 #Mean value of the gaussian distribution, standard deviation \n",
    "            d=np.random.normal(me,sigma)\n",
    "            angle_list = [0,2*math.pi]\n",
    "            for n in range(2):\n",
    "                #alpha=random.uniform(0,360)*(180/math.pi) #get an random angle in ra\n",
    "                templist = copy.deepcopy(angle_list)\n",
    "                new_angles_list =[]\n",
    "                verschoben = 1 #ja es gibt was hier zu sehen\n",
    "                for idx in range(len(templist)-1):\n",
    "                    new_angle = (templist[idx]+templist[idx+1])/2\n",
    "                    new_angles_list.append(new_angle)\n",
    "                    angle_list.insert(idx+verschoben,new_angle)\n",
    "                    verschoben +=1\n",
    "                for alpha in new_angles_list:    \n",
    "                    pos2_x= d*math.cos(alpha)+pos_x\n",
    "                    pos2_y= d*math.sin(alpha)+pos_y\n",
    "                    pos2=[pos2_x,pos2_y]\n",
    "                    if  collChecker.pointInCollision(pos2): #return point when in collision \n",
    "                        break\n",
    "                pos3_x=(pos_x+pos2_x)/2\n",
    "                pos3_y=(pos_y+pos2_y)/2  \n",
    "                pos3=[pos3_x,pos3_y]   \n",
    "                if collChecker.pointInCollision(pos3):\n",
    "                    continue\n",
    "                else:\n",
    "                    return pos3\n",
    "                    \n",
    "    #return [1,2]\n",
    "    #if no point found with gaussian pick a random collison free point\n",
    "    \"\"\"\n",
    "    while  collChecker.pointInCollision(pos):\n",
    "        pos = [random.uniform(limit[0],limit[1]) for limit in limits]\n",
    "    return pos\n",
    "    \"\"\"\n",
    "    return False"
   ]
  },
  {
   "cell_type": "code",
   "execution_count": 17,
   "metadata": {},
   "outputs": [],
   "source": [
    "def learnRoadmapNearestNeighbour(graph, dim, radius, numNodes, collisionChecker):\n",
    "    i = 1\n",
    "    while i < numNodes:\n",
    "        \n",
    "        # Generate a 'randomly chosen, free configuration'\n",
    "        pos=False\n",
    "        while pos==False:\n",
    "            pos = simple_Bridge_Sampling(collisionChecker)\n",
    "        \n",
    "        # Find set of candidates to connect to sorted by distance\n",
    "        #result = nearestNeighboursX(pos, graph, radius)\n",
    "        \n",
    "        # check connection\n",
    "        graph.add_node(i, pos=pos)\n",
    "        \"\"\"\n",
    "        for idx, data in enumerate(result):\n",
    "            if not inSameConnectedComponent(i,data[1][0],graph):\n",
    "                if not collisionChecker.lineInCollision(pos,data[1][1]['pos']):\n",
    "                    graph.add_edge(i,data[1][0])\n",
    "        \"\"\"           \n",
    "        i+=1\n"
   ]
  },
  {
   "cell_type": "code",
   "execution_count": 18,
   "metadata": {},
   "outputs": [],
   "source": [
    "def findPath(graph, start, goal,collisionChecker):\n",
    "    # find nearest, collision-free connection between node on graph and start\n",
    "    result = nearestNeighboursX(start, graph, radius)\n",
    "    for node in result:\n",
    "        if not collisionChecker.lineInCollision(start,node[1][1]['pos']):\n",
    "            graph.add_node(\"start\", pos=start)\n",
    "            graph.add_edge(\"start\",node[1][0])\n",
    "            break;\n",
    "    # find nearest, collision-free connection between node on graph and goal\n",
    "    result = nearestNeighboursX(goal, graph, radius)\n",
    "    \n",
    "    for node in result:\n",
    "        if not collisionChecker.lineInCollision(goal,node[1][1]['pos']):\n",
    "            graph.add_node(\"goal\", pos=goal)\n",
    "            graph.add_edge(\"goal\",node[1][0])\n",
    "            break;\n",
    "    # find shortest path on graph\n",
    "    path = nx.shortest_path(graph,\"start\",\"goal\")\n",
    "    # return nodelist\n",
    "    return path\n",
    "    "
   ]
  },
  {
   "cell_type": "code",
   "execution_count": 19,
   "metadata": {},
   "outputs": [],
   "source": [
    "def basicPRMVisualize(graph, collChecker, solution, nodeSize=300.0, ax=None):\n",
    "    # get a list of posiations of all nodes by returning the content of the attribute 'pos'\n",
    "    pos = nx.get_node_attributes(graph,'pos')\n",
    "    \n",
    "    # draw graph (nodes colorized by degree)\n",
    "    nx.draw_networkx_nodes(graph, pos,  cmap=plt.cm.Blues, ax = ax, node_size=nodeSize)\n",
    "    \"\"\"\n",
    "    nx.draw_networkx_edges(graph,pos,\n",
    "                                ax = ax\n",
    "                                )\n",
    "    \"\"\"\n",
    "   \n",
    "    \n",
    "    #Auskommentiert für Aufgabenstellung 1\n",
    "    #collChecker.drawObstacles(ax)\n",
    "    \n",
    "    \n",
    "    # draw nodes based on solution path\n",
    "    Gsp = nx.subgraph(graph,solution)\n",
    "    nx.draw_networkx_nodes(Gsp,pos,\n",
    "                            node_size=300,\n",
    "                             node_color='g',  ax = ax)\n",
    "        \n",
    "    # draw edges based on solution path\n",
    "    #nx.draw_networkx_edges(Gsp,pos,alpha=0.8,edge_color='g',width=10,  ax = ax)\n",
    "        \n",
    "    # draw start and goal\n",
    "    \"\"\"\"\n",
    "    if \"start\" in graph.nodes(): \n",
    "        nx.draw_networkx_nodes(graph,pos,nodelist=[\"start\"],\n",
    "                                   node_size=300,\n",
    "                                   node_color='#00dd00',  ax = ax)\n",
    "    if \"goal\" in graph.nodes():\n",
    "        nx.draw_networkx_nodes(graph,pos,nodelist=[\"goal\"],\n",
    "                                   node_size=300,\n",
    "                                   node_color='#DD0000', ax = ax)\n",
    "    \"\"\"\n",
    "    "
   ]
  },
  {
   "cell_type": "code",
   "execution_count": 20,
   "metadata": {},
   "outputs": [],
   "source": [
    "import importlib\n",
    "import IPTestSuite\n",
    "\n",
    "importlib.reload(IPTestSuite)\n",
    "\n",
    "dim=2"
   ]
  },
  {
   "cell_type": "code",
   "execution_count": 21,
   "metadata": {},
   "outputs": [
    {
     "name": "stdout",
     "output_type": "stream",
     "text": [
      "Trap\n",
      "Bottleneck\n",
      "Fat bottleneck\n",
      "Spirals\n",
      "Entrance\n",
      "Entrances\n",
      "KIT\n",
      "Inside\n",
      "SSL\n",
      "Ring\n",
      "Hemispheres\n",
      "Hammerhead\n",
      "Zigzag\n",
      "Spiral\n",
      "medium\n",
      "medium2\n",
      "L-square\n",
      "Teeth\n",
      "Gearshift\n",
      "Squares_easy\n",
      "Zigzag_medium\n",
      "Zigzag_hard\n",
      "Japan\n",
      "Haystack\n",
      "HairPerson\n"
     ]
    }
   ],
   "source": [
    "for benchmark in IPTestSuite.benchList:\n",
    "    print(benchmark.name)"
   ]
  },
  {
   "cell_type": "code",
   "execution_count": 22,
   "metadata": {},
   "outputs": [
    {
     "name": "stdout",
     "output_type": "stream",
     "text": [
      "Planning:  Entrances\n",
      "pointInCollision- Aufrufe 6191\n",
      "Failed Either source start or target goal is not in G\n",
      "Planning:  KIT\n",
      "pointInCollision- Aufrufe 78477\n",
      "Failed Either source start or target goal is not in G\n",
      "Planning:  Inside\n",
      "pointInCollision- Aufrufe 276540\n",
      "Failed No path between start and goal.\n"
     ]
    },
    {
     "data": {
      "image/png": "[encoded data removed]",
      "text/plain": [
       "<Figure size 720x720 with 1 Axes>"
      ]
     },
     "metadata": {},
     "output_type": "display_data"
    },
    {
     "data": {
      "image/png": "[encoded data removed]",
      "text/plain": [
       "<Figure size 720x720 with 1 Axes>"
      ]
     },
     "metadata": {},
     "output_type": "display_data"
    },
    {
     "data": {
      "image/png": "[encoded data removed]",
      "text/plain": [
       "<Figure size 720x720 with 1 Axes>"
      ]
     },
     "metadata": {},
     "output_type": "display_data"
    }
   ],
   "source": [
    "temp_list=IPTestSuite.benchList[5:8]\n",
    "\n",
    "for benchmark in temp_list:\n",
    "    try:\n",
    "        print (\"Planning: \", benchmark.name)\n",
    "        collChecker = benchmark.collisionChecker\n",
    "        G = nx.Graph()\n",
    "        radius = 3.0\n",
    "        numNodes = 200\n",
    "\n",
    "        IPPerfMonitor.clearData() \n",
    "\n",
    "        learnRoadmapNearestNeighbour(G, dim, radius, numNodes, collChecker)\n",
    "\n",
    "        Function_infos = IPPerfMonitor.dataFrame()\n",
    "        counts_for_collision = len(Function_infos[Function_infos[\"name\"]==\"pointInCollision\"])\n",
    "        print(\"pointInCollision- Aufrufe\", counts_for_collision)\n",
    "\n",
    "        solution = findPath(G,benchmark.startList[0],benchmark.goalList[0], collChecker)\n",
    "        print(solution, len(solution))\n",
    "        print(len(G.nodes()))\n",
    "        \n",
    "    except Exception as e:\n",
    "        solution = []\n",
    "        print (\"Failed\", e)\n",
    "    # draw the planning\n",
    "    fig = plt.figure(figsize=(10,10))\n",
    "    ax = fig.add_subplot(1,1,1)\n",
    "    limits=collChecker.getEnvironmentLimits()\n",
    "    ax.set_xlim(limits[0])\n",
    "    ax.set_ylim(limits[1])\n",
    "    ax.set_title(benchmark.name)\n",
    "    basicPRMVisualize(G,collChecker,solution,nodeSize=80,ax=ax)"
   ]
  },
  {
   "cell_type": "code",
   "execution_count": null,
   "metadata": {},
   "outputs": [],
   "source": []
  }
 ],
 "metadata": {
  "interpreter": {
   "hash": "4ff5e63b7568e95e5b0371cab0b26aca9b1e7af42d6a4f8fa4dd7b5791925828"
  },
  "kernelspec": {
   "display_name": "Python 3.9.9 64-bit ('venv': venv)",
   "language": "python",
   "name": "python3"
  },
  "language_info": {
   "codemirror_mode": {
    "name": "ipython",
    "version": 3
   },
   "file_extension": ".py",
   "mimetype": "text/x-python",
   "name": "python",
   "nbconvert_exporter": "python",
   "pygments_lexer": "ipython3",
   "version": "3.8.8"
  },
  "orig_nbformat": 4
 },
 "nbformat": 4,
 "nbformat_minor": 2
}
