{
 "cells": [
  {
   "cell_type": "markdown",
   "metadata": {},
   "source": [
    "# Aufgabe 2 - Benchmarks mit dem Bridge Sampling  \n",
    "In dieser Datei wird das normal_Bridge_Sampling mithilfe von verschiedenen Benchmarkumgebungen ausgewertet. Es werden hierbei die benötigten Kollisionstests für die Umgebung ausgewertet und die Rechendauer.\n",
    "\n",
    "Am Ende wird Bridge mit Gauss verglichen."
   ]
  },
  {
   "cell_type": "markdown",
   "metadata": {},
   "source": [
    "### Einbinden aller erforderlichen Bibliotheken und Files "
   ]
  },
  {
   "cell_type": "code",
   "execution_count": 2,
   "metadata": {},
   "outputs": [],
   "source": [
    "import matplotlib.pyplot as plt \n",
    "%matplotlib inline\n",
    "\n",
    "import networkx as nx  # Library for hanling graphs (please check 4_Introduction_Graph)\n",
    "import random # possibility to create random numbers (The \"P\" in PRM)\n",
    "\n",
    "import numpy as np # functions for some calculations \n",
    "import math # functions for some calculations \n",
    "\n",
    "from IPPerfMonitor import IPPerfMonitor\n",
    "\n",
    "# sort nearest neighbour brute force\n",
    "import heapq\n",
    "import copy\n",
    "# reduce coding effort by using function provided by scipy\n",
    "from scipy.spatial.distance import euclidean\n",
    "\n",
    "\n",
    "import importlib # usfull to relaod Files without the need to restart the kernel \n",
    "import IPTestSuite # import the enviroment for our Benchmarks \n",
    "dim=2"
   ]
  },
  {
   "cell_type": "markdown",
   "metadata": {},
   "source": [
    "### \"inSameConntectedCoponent\" \n",
    "Die Funktion  schaut ob die übergebenen Punkte in der selben Komponente liegen"
   ]
  },
  {
   "cell_type": "code",
   "execution_count": 3,
   "metadata": {},
   "outputs": [],
   "source": [
    "def inSameConnectedComponent(node1, node2, graph):\n",
    "    \"\"\" Check whether to nodes are part of the same connected component using\n",
    "        functionality from NetworkX\n",
    "    \"\"\"\n",
    "    for connectedComponent in nx.connected_components(graph):\n",
    "        if (node1 in connectedComponent) & (node2 in connectedComponent):\n",
    "            return True\n",
    "        \n",
    "    return False"
   ]
  },
  {
   "cell_type": "markdown",
   "metadata": {},
   "source": [
    "### \"nearestNeighboursX\" \n",
    "Die Funktion  findet zu einem gegebenen Punkt alle Punkte in einem gegebenen Radius und sortiert diese mit aufsteigender Distanz in einen Heap "
   ]
  },
  {
   "cell_type": "code",
   "execution_count": 4,
   "metadata": {},
   "outputs": [],
   "source": [
    "\n",
    "def nearestNeighboursX(pos, graph, radius):\n",
    "    \"\"\" Brute Force method to find all nodes of a \n",
    "    graph near the given position **pos** with in the distance of\n",
    "    **radius** in **increasing order**\"\"\"\n",
    "    \n",
    "    heap = list()\n",
    "    for node in graph.nodes(data=True): # using (data=True) will generate a list of nodes with all attributes\n",
    "        if euclidean(node[1]['pos'],pos) < radius:\n",
    "            # use a heap-queue to sort the nodes in increasing order\n",
    "            heapq.heappush(heap, (euclidean(node[1]['pos'] ,pos), node))\n",
    "            #if len(heap) > 2 :\n",
    "            #    break\n",
    "\n",
    "    result = list()\n",
    "    while len(heap) > 0 :\n",
    "         result.append(heapq.heappop(heap)) \n",
    "    \n",
    "    return result\n",
    "            \n",
    "            "
   ]
  },
  {
   "cell_type": "markdown",
   "metadata": {},
   "source": [
    "### \"Simple_Bridge_Sampling\" \n",
    "Die Funktion  erzeugt Punkte nach dem Bridge Sampling verfahren "
   ]
  },
  {
   "cell_type": "code",
   "execution_count": 5,
   "metadata": {},
   "outputs": [],
   "source": [
    "def simple_Bridge_Sampling(collChecker):\n",
    "    limits = collChecker.getEnvironmentLimits()  # get the limits from the enviroment \n",
    "    pos = [random.uniform(limit[0],limit[1]) for limit in limits] # generating a random pose within the limits \n",
    "\n",
    "    if not collChecker.pointInCollision(pos): # check if the pos is in collision \n",
    "        return False    # return false if pos is not in collision \n",
    "    d = np.random.normal(2,2) # get the distance d to the next point over a gaussian normal distribution \n",
    "    pos_x=pos[0]# store the x position of the pos\n",
    "    pos_y=pos[1]# store the y position of the pos \n",
    "    alpha=random.uniform(0,360)*(math.pi/180) #get an random angle in rad between 0 and 180 degree \n",
    "    pos2_x=d*math.cos(alpha)+pos_x # calculate the x position for pos2\n",
    "    pos2_y=d*math.sin(alpha)+pos_y # calculate the y position for pos2 \n",
    "    pos2=[pos2_x,pos2_y]# store pos2 \n",
    "\n",
    "    if not collChecker.pointInCollision(pos2):# check if pos2 is in collision \n",
    "        return False    # return false if pos is not in collision \n",
    "        \n",
    "    pos3_x=(pos_x+pos2_x)/2 # calculate the x value of the intermediate point\n",
    "    pos3_y=(pos_y+pos2_y)/2 # calculate the y value of the intermediate point \n",
    "    pos3=[pos3_x,pos3_y]# store pos3 \n",
    "\n",
    "    if collChecker.pointInCollision(pos3):# check if pos3 is in collision \n",
    "        return False # return fals if pos3 is in collision \n",
    "        \n",
    "    return pos3 # return pos3 wich now can be added to the roadmap  \n"
   ]
  },
  {
   "cell_type": "markdown",
   "metadata": {},
   "source": [
    "### Die Funktion \"normal_Bridge_Sampling\" erzeugt Punkte nach dem Bridge Sampling verfahren\n",
    "im Unterschied zum vorher gezeigten Verfahren wird der erste Punkt solange neu gewählt, bis ein Punkt gefunden wurde der Kollidiert. \n",
    "Anschließend wird zu diesem Punkt in einer Schleife ein zweiter Punkt mit einem Abstand d(Gauße Normalverteilung) und varierenden Winkel gesucht. Dadurch, dass zu dem ersten gefunden Punkt ein zweiter, nicht kollidierender Punkt in einer Schleife gesucht wird, werden hier deutlich mehr Kollision Checks benötigt und die Berechnungsdauer dauert länger. Aufgrund Dessen wurden für die Benchmark Versuche die Funktion \"Simple_Bridge_Sampling\" verwendet."
   ]
  },
  {
   "cell_type": "code",
   "execution_count": 6,
   "metadata": {},
   "outputs": [],
   "source": [
    "def normal_Bridge_Sampeling(collChecker):\n",
    "    \n",
    "    limits = collChecker.getEnvironmentLimits()  # get the limits from the enviroment       \n",
    "    pos = [random.uniform(limit[0],limit[1]) for limit in limits] # generating a random pose within the limits \n",
    "    \n",
    "    \n",
    "    #get a colliding point\n",
    "    for t in range(0,10):# if no valid configuration with the pos was found pich a new first point(10 times)\n",
    "        while not collChecker.pointInCollision(pos):# generate a randmom pos until the pos is in collision \n",
    "            pos = [random.uniform(limit[0],limit[1]) for limit in limits]\n",
    "        \n",
    "        \n",
    "        pos_x=pos[0] # store the x position of the pos\n",
    "        pos_y=pos[1] # store the y position of the pos\n",
    "    \n",
    "        \n",
    "        for i in range(0,50): # check the angles for pos and a distance d if no valid config was found pick an new distance d(50 times)\n",
    "            \n",
    "            d=np.random.normal(2,2)# get the distance d to the next point over a gaussian normal distribution \n",
    "            angle_list = [0,2*math.pi] # create a angle list with value 0 and two pi\n",
    "            for n in range(4):\n",
    "                \n",
    "                templist = copy.deepcopy(angle_list)# make a true copy from the angle list\n",
    "                new_angles_list =[]# create a new angle list\n",
    "                verschoben = 1 #set the var for the shift to one \n",
    "                for idx in range(len(templist)-1):\n",
    "                    new_angle = (templist[idx]+templist[idx+1])/2 # create a new angle that is between the two picked angles \n",
    "                    new_angles_list.append(new_angle)# append the new angle\n",
    "                    angle_list.insert(idx+verschoben,new_angle)# insert the new angle in the angle list\n",
    "                    verschoben +=1 # increase the shift \n",
    "                for alpha in new_angles_list: # calculate the pos2 for the angles in the new_angle_list  \n",
    "                    pos2_x= d*math.cos(alpha)+pos_x# calculate the x position for pos2\n",
    "                    pos2_y= d*math.sin(alpha)+pos_y# calculate the y position for pos2\n",
    "                    pos2=[pos2_x,pos2_y]# store pso2\n",
    "                    if  collChecker.pointInCollision(pos2): #check if pos2 is in collision \n",
    "                        break # if pos2 is in collison continue wiht calculation of the third point \n",
    "                pos3_x=(pos_x+pos2_x)/2 # calculate the x value of the intermediate point\n",
    "                pos3_y=(pos_y+pos2_y)/2 # calculate the y value of the intermediate point \n",
    "                pos3=[pos3_x,pos3_y]  #  store the pos3 \n",
    "                if collChecker.pointInCollision(pos3): # check if pos3 is in collision \n",
    "                    continue # if in collision continue \n",
    "                else:\n",
    "                    return pos3 # return pos3 wich now can be added to the roadmap  \n",
    "                    \n",
    "    return False # if no valild configuration could be found return False"
   ]
  },
  {
   "cell_type": "markdown",
   "metadata": {},
   "source": [
    "###  \"learn_RoadmapNearestNeighbour\" \n",
    "Die Funktion erzeugt eine vorgegebene Anzahl an Punkte mit dem Bridge Sampling Verfahren und fügte diese der Roadmap hinzu"
   ]
  },
  {
   "cell_type": "code",
   "execution_count": 7,
   "metadata": {},
   "outputs": [],
   "source": [
    "def learnRoadmapNearestNeighbour(graph, dim, radius, numNodes, collisionChecker):\n",
    "    i = 1\n",
    "    while i < numNodes: # generate new nodes until the desired number has been reached \n",
    "      \n",
    "        pos=False# initalize the pos var \n",
    "        #num_loops = 0 # set the counter for the count of the loops  to zero \n",
    "        while pos==False: # create a new point with the Bridge Sampling until a valid point is returned \n",
    "            #num_loops += 1# increase the loop counter \n",
    "            pos = simple_Bridge_Sampling(collisionChecker)\n",
    "            #if num_loops > 200:# if the loop counter is over 200 stop the sampling - protect from deadlocks \n",
    "                #break\n",
    "        \n",
    "        # Find set of candidates to connect to sorted by distance\n",
    "        #result = nearestNeighboursX(pos, graph, radius) # commented out because we dont want the result path for our Benchmarks \n",
    "        \n",
    "        # check connection\n",
    "        if pos is not False:\n",
    "            graph.add_node(i, pos=pos)\n",
    "            \n",
    "        # commented out because we dont want the result path edges for our Benchmarks \n",
    "        \"\"\"\n",
    "        for idx, data in enumerate(result):\n",
    "            if not inSameConnectedComponent(i,data[1][0],graph):\n",
    "                if not collisionChecker.lineInCollision(pos,data[1][1]['pos']):\n",
    "                    graph.add_edge(i,data[1][0])\n",
    "        \"\"\"           \n",
    "        i+=1\n"
   ]
  },
  {
   "cell_type": "markdown",
   "metadata": {},
   "source": [
    "### \"find_Path\" \n",
    "Die Funktion  versucht einen Pfad von der Start zur Ziepose zu finden mit der erzeugten Roadmap \n"
   ]
  },
  {
   "cell_type": "code",
   "execution_count": 8,
   "metadata": {},
   "outputs": [],
   "source": [
    "def findPath(graph, start, goal,collisionChecker):\n",
    "    # find nearest, collision-free connection between node on graph and start\n",
    "    result = nearestNeighboursX(start, graph, radius)\n",
    "    for node in result:\n",
    "        if not collisionChecker.lineInCollision(start,node[1][1]['pos']):\n",
    "            graph.add_node(\"start\", pos=start)\n",
    "            graph.add_edge(\"start\",node[1][0])\n",
    "            break;\n",
    "    # find nearest, collision-free connection between node on graph and goal\n",
    "    result = nearestNeighboursX(goal, graph, radius)\n",
    "    \n",
    "    for node in result:\n",
    "        if not collisionChecker.lineInCollision(goal,node[1][1]['pos']):\n",
    "            graph.add_node(\"goal\", pos=goal)\n",
    "            graph.add_edge(\"goal\",node[1][0])\n",
    "            break;\n",
    "    # find shortest path on graph\n",
    "    path = nx.shortest_path(graph,\"start\",\"goal\")\n",
    "    # return nodelist\n",
    "    return path\n",
    "    "
   ]
  },
  {
   "cell_type": "markdown",
   "metadata": {},
   "source": [
    "### \"basicPRMVisualize\" \n",
    "Die Funktion  visualisiert die Benchmark umgebungen mit deren Hindernissen und der dazu erzeugten Roadmap"
   ]
  },
  {
   "cell_type": "code",
   "execution_count": 9,
   "metadata": {},
   "outputs": [],
   "source": [
    "def basicPRMVisualize(graph, collChecker, solution, nodeSize=300.0, ax=None):\n",
    "    # get a list of posiations of all nodes by returning the content of the attribute 'pos'\n",
    "    pos = nx.get_node_attributes(graph,'pos')\n",
    "    \n",
    "    # draw graph (nodes colorized by degree)\n",
    "    nx.draw_networkx_nodes(graph, pos,  cmap=plt.cm.Blues, ax = ax, node_size=nodeSize)\n",
    "    \"\"\"\n",
    "    nx.draw_networkx_edges(graph,pos,\n",
    "                                ax = ax\n",
    "                                )\n",
    "    \"\"\"\n",
    "   \n",
    "    \n",
    "    #Auskommentiert für Aufgabenstellung 1\n",
    "    collChecker.drawObstacles(ax)\n",
    "    \n",
    "    \n",
    "    # draw nodes based on solution path\n",
    "    Gsp = nx.subgraph(graph,solution)\n",
    "    nx.draw_networkx_nodes(Gsp,pos,\n",
    "                            node_size=300,\n",
    "                             node_color='g',  ax = ax)\n",
    "        \n",
    "    # draw edges based on solution path\n",
    "    #nx.draw_networkx_edges(Gsp,pos,alpha=0.8,edge_color='g',width=10,  ax = ax)\n",
    "        \n",
    "    # draw start and goal\n",
    "    \"\"\"\"\n",
    "    if \"start\" in graph.nodes(): \n",
    "        nx.draw_networkx_nodes(graph,pos,nodelist=[\"start\"],\n",
    "                                   node_size=300,\n",
    "                                   node_color='#00dd00',  ax = ax)\n",
    "    if \"goal\" in graph.nodes():\n",
    "        nx.draw_networkx_nodes(graph,pos,nodelist=[\"goal\"],\n",
    "                                   node_size=300,\n",
    "                                   node_color='#DD0000', ax = ax)\n",
    "    \"\"\"\n",
    "    "
   ]
  },
  {
   "cell_type": "markdown",
   "metadata": {},
   "source": [
    "### Importieren der Benchmark Umgebung "
   ]
  },
  {
   "cell_type": "code",
   "execution_count": 10,
   "metadata": {},
   "outputs": [
    {
     "name": "stdout",
     "output_type": "stream",
     "text": [
      "Trap\n",
      "Bottleneck\n",
      "Fat bottleneck\n",
      "Spirals\n",
      "Entrance\n",
      "Entrances\n",
      "KIT\n",
      "Inside\n",
      "SSL\n",
      "Ring\n",
      "Hemispheres\n",
      "Hammerhead\n",
      "Zigzag\n",
      "Spiral\n",
      "medium\n",
      "medium2\n",
      "L-square\n",
      "Teeth\n",
      "Gearshift\n",
      "Squares_easy\n",
      "Zigzag_medium\n",
      "Zigzag_hard\n",
      "Japan\n",
      "Haystack\n",
      "HairPerson\n",
      "M Sahpe(JM)\n",
      "Random Field (LB)\n",
      "stick figure (AA)\n",
      "Double Circle(JM)\n",
      "Sun Scribble (FP)\n",
      "Wpoint (SS)\n",
      "Points Field (NC)\n",
      "Hi (TN)\n",
      "S Field\n",
      "HKA (SS)\n",
      "HKA (HKA)\n",
      "tLines (TK)\n",
      "U Lines (KA)\n",
      "Ricos Moderne Kunst\n",
      "Pillars (MA)\n",
      "Random Bubbles (MS)\n",
      "Point Matrix (CH)\n",
      "VFB (LD)\n",
      "Face (JS)\n",
      "Maze (AZ)\n",
      "Robo (FP)\n",
      "Stickman (MK)\n",
      "House (AZ)\n",
      "2030+ (2030+)\n",
      "Random Bubbles (MS)\n"
     ]
    }
   ],
   "source": [
    "for benchmark in IPTestSuite.benchList:\n",
    "    print(benchmark.name)"
   ]
  },
  {
   "cell_type": "markdown",
   "metadata": {},
   "source": [
    "### Erzeugen der Roadmapp für alle geladenen Benchmarks"
   ]
  },
  {
   "cell_type": "code",
   "execution_count": 11,
   "metadata": {},
   "outputs": [
    {
     "name": "stdout",
     "output_type": "stream",
     "text": [
      "Planning:  Trap\n",
      "pointInCollision- Aufrufe 202658\n",
      "Failed Either source start or target goal is not in G\n",
      "Planning:  Bottleneck\n",
      "pointInCollision- Aufrufe 37258\n",
      "Failed Either source start or target goal is not in G\n",
      "Planning:  Fat bottleneck\n",
      "pointInCollision- Aufrufe 58885\n",
      "Failed Either source start or target goal is not in G\n",
      "Planning:  Spirals\n"
     ]
    }
   ],
   "source": [
    "temp_list=IPTestSuite.benchList[:10]\n",
    "coll_list = []\n",
    "for benchmark in temp_list:\n",
    "    if benchmark.name == \"Japan\":\n",
    "        continue\n",
    "    try:\n",
    "        benchmark.name\n",
    "        print (\"Planning: \", benchmark.name)\n",
    "        collChecker = benchmark.collisionChecker\n",
    "        G = nx.Graph()\n",
    "        radius = 3.0\n",
    "        numNodes = 200\n",
    "\n",
    "        IPPerfMonitor.clearData() \n",
    "\n",
    "        learnRoadmapNearestNeighbour(G, dim, radius, numNodes, collChecker)\n",
    "\n",
    "        Function_infos = IPPerfMonitor.dataFrame()\n",
    "        counts_for_collision = len(Function_infos[Function_infos[\"name\"]==\"pointInCollision\"])\n",
    "        print(\"pointInCollision- Aufrufe\", counts_for_collision)\n",
    "        coll_list.append(counts_for_collision)\n",
    "        solution = findPath(G,benchmark.startList[0],benchmark.goalList[0], collChecker)\n",
    "        print(solution, len(solution))\n",
    "        print(len(G.nodes()))\n",
    "        \n",
    "    except Exception as e:\n",
    "        solution = []\n",
    "        print (\"Failed\", e)\n",
    "    # draw the planning\n",
    "    fig = plt.figure(figsize=(10,10))\n",
    "    ax = fig.add_subplot(1,1,1)\n",
    "    limits=collChecker.getEnvironmentLimits()\n",
    "    ax.set_xlim(limits[0])\n",
    "    ax.set_ylim(limits[1])\n",
    "    ax.set_title(benchmark.name)\n",
    "    basicPRMVisualize(G,collChecker,solution,nodeSize=80,ax=ax)"
   ]
  },
  {
   "cell_type": "markdown",
   "metadata": {},
   "source": [
    "### Ergebnisse der Benchmarks\n",
    "**Paramter für die Benchmarks:**\n",
    "* Mittelwert der Gauß Normalverteilung - 2\n",
    "* Standardabweichung der Gauß Normalverteilung - 2\n",
    "* Anzahl der zu erzeugenden Punkte - 200 \n",
    "* Das Abbruch Krieterium um bei einem zu häfigen Aufruf der Sampling Strategie abzubrechen wurde auskomentiert\n",
    "\n",
    "<img src=\"img-ip-5-0/Aufgabe_2_Projektarbeit_Bild_1.png\" width=250em style=\"float: mid;\" />\n",
    "<img src=\"img-ip-5-0/Aufgabe_2_Projektarbeit_Bild_2.png\" width=250em style=\"float: mid;\" />\n",
    "<img src=\"img-ip-5-0/Aufgabe_2_Projektarbeit_Bild_3.png\" width=250em style=\"float: mid;\" />\n",
    "\n",
    "Wie auf den Bildern der Benchmarks schön zu sehen ist, werden vorallem Punkte in den Engstellen erzeugt. Problematisch könnte es bei runden Objketen werden, welche komplett ausgefüllt sind. Dort können mit dem Bridge Sampling keine Konfiguration gefunden werden, bei denen die beiden äußren Punkte kollidieren und der mittlere Punkt Frei ist.\n",
    "Außerdem zu beachten ist, dass bei Unterschiedlichen Abständen der Hindernisse die Paramter der Gaußschen Normalverteilung angepasst werden müssen(Mittelwert und Standardabweichung)\n",
    "\n",
    "**Vergleich zwischen Bridge Sampling und Gauß Sampling**\n",
    "\n",
    "Die Anzahl von 200 Punkten wurde vorgegeben und die Anzahl der Kollisionschecks und die Dauer der Berechungn der einzelnen Punkte verglichen.\n",
    "\n",
    "<img src=\"img-ip-5-0/Aufgabe_2_Projektarbeit_Bild_7.png\" width=500em style=\"float: mid;\" />\n",
    "\n",
    "Deutlich zu erkenn ist, dass das Gaußsampling deutlich schneller als das Bridge Sampling ist und weniger Kollisionscheks benötigt. Das liegt vor allem daran, dass beim Bridge Sampling Verfahren ein Punkt mehr auf Kollision geprüft werden muss als beim Gauß Sampling. Des Weiteren ist die Wahrscheinlichkeit, dass 3 Punkte die Bedingungen(Kollision,Kollision,Kollisionsfrei) hintereinander füllen deutlich geringer als beim Gauß Sampling bei denen es nur zwei Bedingungen sind(Kollision,Kollisionsfrei). \n",
    "Dennoch lassen sich die beiden Verfahren nur bedingt vergleichen, da sie zwei unterschiedliche Ziele verfolgen. Das Gauß Sampling möchte möglichst viele Punkte um Objekte herum erzeugen. Das Bridge Sampling soll Punkte in engen Passagen erzeugen. Deshalb muss man je nach Umgebung abschätzen welches Verfahren das geeignete ist."
   ]
  },
  {
   "cell_type": "code",
   "execution_count": null,
   "metadata": {},
   "outputs": [],
   "source": []
  }
 ],
 "metadata": {
  "interpreter": {
   "hash": "4ff5e63b7568e95e5b0371cab0b26aca9b1e7af42d6a4f8fa4dd7b5791925828"
  },
  "kernelspec": {
   "display_name": "Python 3.9.9 64-bit ('venv': venv)",
   "language": "python",
   "name": "python3"
  },
  "language_info": {
   "codemirror_mode": {
    "name": "ipython",
    "version": 3
   },
   "file_extension": ".py",
   "mimetype": "text/x-python",
   "name": "python",
   "nbconvert_exporter": "python",
   "pygments_lexer": "ipython3",
   "version": "3.8.8"
  },
  "orig_nbformat": 4
 },
 "nbformat": 4,
 "nbformat_minor": 2
}
